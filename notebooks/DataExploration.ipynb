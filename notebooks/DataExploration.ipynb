{
 "cells": [
  {
   "cell_type": "markdown",
   "id": "106db25f-91a5-4e31-ba4f-9e541ffdf24b",
   "metadata": {
    "tags": []
   },
   "source": [
    "# Wine Rating Data Exploration\n",
    "\n",
    "With these next steps we will explore the dataset at hand, converting the columns for better input the dataset into predictive algorithms.\n",
    "The dataset has been split 70-30 instead of the original 90-10 in order to better control variance in performance measures (given the relatively small dataset available for the challenge)."
   ]
  },
  {
   "cell_type": "code",
   "execution_count": 1,
   "id": "0385faf6-2696-4f9f-a9e4-438b31a0a879",
   "metadata": {},
   "outputs": [],
   "source": [
    "import pandas as pd\n",
    "import seaborn as sns\n",
    "import matplotlib.pyplot as plt\n",
    "import math\n",
    "import re\n",
    "import scipy\n",
    "import numpy as np\n",
    "from pprint import pprint\n",
    "from sklearn.feature_extraction.text import TfidfVectorizer\n",
    "from sklearn.model_selection import train_test_split"
   ]
  },
  {
   "cell_type": "markdown",
   "id": "0e3d680f-232b-4fca-8d9f-18f3ba51a65e",
   "metadata": {},
   "source": [
    "Train and test set are combined for data analysis.\n",
    "\n",
    "Since this is a sample dataset, all the operations on categorical data must take into account additional possible values."
   ]
  },
  {
   "cell_type": "code",
   "execution_count": 2,
   "id": "8e801160-d3df-4590-9a01-0230061988e8",
   "metadata": {},
   "outputs": [],
   "source": [
    "# train = pd.read_csv('../data_root/split/train.csv')\n",
    "# test = pd.read_csv('../data_root/split/test.csv')\n",
    "# df = pd.concat([train, test], ignore_index=True)\n",
    "df = pd.read_csv('../data_root/split/train.csv')"
   ]
  },
  {
   "cell_type": "code",
   "execution_count": 3,
   "id": "80c03cab-4d31-4689-b03d-c3a077504e80",
   "metadata": {},
   "outputs": [
    {
     "data": {
      "text/html": [
       "<div>\n",
       "<style scoped>\n",
       "    .dataframe tbody tr th:only-of-type {\n",
       "        vertical-align: middle;\n",
       "    }\n",
       "\n",
       "    .dataframe tbody tr th {\n",
       "        vertical-align: top;\n",
       "    }\n",
       "\n",
       "    .dataframe thead th {\n",
       "        text-align: right;\n",
       "    }\n",
       "</style>\n",
       "<table border=\"1\" class=\"dataframe\">\n",
       "  <thead>\n",
       "    <tr style=\"text-align: right;\">\n",
       "      <th></th>\n",
       "      <th>country</th>\n",
       "      <th>description</th>\n",
       "      <th>designation</th>\n",
       "      <th>points</th>\n",
       "      <th>price</th>\n",
       "      <th>province</th>\n",
       "      <th>region_1</th>\n",
       "      <th>region_2</th>\n",
       "      <th>taster_name</th>\n",
       "      <th>taster_twitter_handle</th>\n",
       "      <th>title</th>\n",
       "      <th>variety</th>\n",
       "      <th>winery</th>\n",
       "    </tr>\n",
       "  </thead>\n",
       "  <tbody>\n",
       "    <tr>\n",
       "      <th>6684</th>\n",
       "      <td>US</td>\n",
       "      <td>A proprietary blend of 85% Cabernet Sauvignon,...</td>\n",
       "      <td>Zephyr Private Reserve</td>\n",
       "      <td>91</td>\n",
       "      <td>85.0</td>\n",
       "      <td>California</td>\n",
       "      <td>Napa Valley</td>\n",
       "      <td>Napa</td>\n",
       "      <td>Virginie Boone</td>\n",
       "      <td>@vboone</td>\n",
       "      <td>Davis Estates 2012 Zephyr Private Reserve Red ...</td>\n",
       "      <td>Bordeaux-style Red Blend</td>\n",
       "      <td>Davis Estates</td>\n",
       "    </tr>\n",
       "    <tr>\n",
       "      <th>6702</th>\n",
       "      <td>US</td>\n",
       "      <td>One of a string of great values made at Terrav...</td>\n",
       "      <td>NaN</td>\n",
       "      <td>90</td>\n",
       "      <td>10.0</td>\n",
       "      <td>California</td>\n",
       "      <td>California</td>\n",
       "      <td>California Other</td>\n",
       "      <td>Jim Gordon</td>\n",
       "      <td>@gordone_cellars</td>\n",
       "      <td>Cookies &amp; Cream 2010 Merlot (California)</td>\n",
       "      <td>Merlot</td>\n",
       "      <td>Cookies &amp; Cream</td>\n",
       "    </tr>\n",
       "    <tr>\n",
       "      <th>338</th>\n",
       "      <td>Chile</td>\n",
       "      <td>Spicy cherry, blackberry, tobacco, tar and oak...</td>\n",
       "      <td>El Alto</td>\n",
       "      <td>90</td>\n",
       "      <td>45.0</td>\n",
       "      <td>Colchagua Valley</td>\n",
       "      <td>NaN</td>\n",
       "      <td>NaN</td>\n",
       "      <td>Michael Schachner</td>\n",
       "      <td>@wineschach</td>\n",
       "      <td>Alto Los Romeros 2012 El Alto Red (Colchagua V...</td>\n",
       "      <td>Red Blend</td>\n",
       "      <td>Alto Los Romeros</td>\n",
       "    </tr>\n",
       "    <tr>\n",
       "      <th>7482</th>\n",
       "      <td>US</td>\n",
       "      <td>A delicious Zinfandel, one of Fritz's best in ...</td>\n",
       "      <td>Estate</td>\n",
       "      <td>91</td>\n",
       "      <td>25.0</td>\n",
       "      <td>California</td>\n",
       "      <td>Dry Creek Valley</td>\n",
       "      <td>Sonoma</td>\n",
       "      <td>NaN</td>\n",
       "      <td>NaN</td>\n",
       "      <td>Fritz 2009 Estate Zinfandel (Dry Creek Valley)</td>\n",
       "      <td>Zinfandel</td>\n",
       "      <td>Fritz</td>\n",
       "    </tr>\n",
       "    <tr>\n",
       "      <th>7882</th>\n",
       "      <td>Austria</td>\n",
       "      <td>They could make anything into dessert wine in ...</td>\n",
       "      <td>Eiswein</td>\n",
       "      <td>91</td>\n",
       "      <td>NaN</td>\n",
       "      <td>Burgenland</td>\n",
       "      <td>NaN</td>\n",
       "      <td>NaN</td>\n",
       "      <td>Roger Voss</td>\n",
       "      <td>@vossroger</td>\n",
       "      <td>Höpler 2009 Eiswein Pinot Noir (Burgenland)</td>\n",
       "      <td>Pinot Noir</td>\n",
       "      <td>Höpler</td>\n",
       "    </tr>\n",
       "    <tr>\n",
       "      <th>5289</th>\n",
       "      <td>US</td>\n",
       "      <td>Barrel-fermented and blended with a splash of ...</td>\n",
       "      <td>NaN</td>\n",
       "      <td>87</td>\n",
       "      <td>24.0</td>\n",
       "      <td>California</td>\n",
       "      <td>Napa Valley</td>\n",
       "      <td>Napa</td>\n",
       "      <td>Virginie Boone</td>\n",
       "      <td>@vboone</td>\n",
       "      <td>Bougetz 2013 Sauvignon Blanc (Napa Valley)</td>\n",
       "      <td>Sauvignon Blanc</td>\n",
       "      <td>Bougetz</td>\n",
       "    </tr>\n",
       "    <tr>\n",
       "      <th>1130</th>\n",
       "      <td>US</td>\n",
       "      <td>Another small-production stunner from Terre Ro...</td>\n",
       "      <td>Monarch Mine Vineyard</td>\n",
       "      <td>92</td>\n",
       "      <td>30.0</td>\n",
       "      <td>California</td>\n",
       "      <td>Sierra Foothills</td>\n",
       "      <td>Sierra Foothills</td>\n",
       "      <td>Virginie Boone</td>\n",
       "      <td>@vboone</td>\n",
       "      <td>Terre Rouge 2008 Monarch Mine Vineyard Syrah (...</td>\n",
       "      <td>Syrah</td>\n",
       "      <td>Terre Rouge</td>\n",
       "    </tr>\n",
       "    <tr>\n",
       "      <th>4067</th>\n",
       "      <td>US</td>\n",
       "      <td>This pretty wine is rich, dry and softly tanni...</td>\n",
       "      <td>Maestro Collection Ranch No. 2</td>\n",
       "      <td>92</td>\n",
       "      <td>65.0</td>\n",
       "      <td>California</td>\n",
       "      <td>Napa Valley</td>\n",
       "      <td>Napa</td>\n",
       "      <td>NaN</td>\n",
       "      <td>NaN</td>\n",
       "      <td>Beaulieu Vineyard 2009 Maestro Collection Ranc...</td>\n",
       "      <td>Cabernet Sauvignon</td>\n",
       "      <td>Beaulieu Vineyard</td>\n",
       "    </tr>\n",
       "    <tr>\n",
       "      <th>1624</th>\n",
       "      <td>US</td>\n",
       "      <td>This is Barlow's Bordeaux blend. Based on Cabe...</td>\n",
       "      <td>Barrouge</td>\n",
       "      <td>90</td>\n",
       "      <td>40.0</td>\n",
       "      <td>California</td>\n",
       "      <td>Napa Valley</td>\n",
       "      <td>Napa</td>\n",
       "      <td>NaN</td>\n",
       "      <td>NaN</td>\n",
       "      <td>Barlow 2005 Barrouge Red (Napa Valley)</td>\n",
       "      <td>Bordeaux-style Red Blend</td>\n",
       "      <td>Barlow</td>\n",
       "    </tr>\n",
       "    <tr>\n",
       "      <th>5516</th>\n",
       "      <td>Portugal</td>\n",
       "      <td>An elegant wine, its acidity showing through b...</td>\n",
       "      <td>Presidential Late Bottled Vintage</td>\n",
       "      <td>87</td>\n",
       "      <td>23.0</td>\n",
       "      <td>Port</td>\n",
       "      <td>NaN</td>\n",
       "      <td>NaN</td>\n",
       "      <td>Roger Voss</td>\n",
       "      <td>@vossroger</td>\n",
       "      <td>C. da Silva 2004 Presidential Late Bottled Vin...</td>\n",
       "      <td>Port</td>\n",
       "      <td>C. da Silva</td>\n",
       "    </tr>\n",
       "  </tbody>\n",
       "</table>\n",
       "</div>"
      ],
      "text/plain": [
       "       country                                        description  \\\n",
       "6684        US  A proprietary blend of 85% Cabernet Sauvignon,...   \n",
       "6702        US  One of a string of great values made at Terrav...   \n",
       "338      Chile  Spicy cherry, blackberry, tobacco, tar and oak...   \n",
       "7482        US  A delicious Zinfandel, one of Fritz's best in ...   \n",
       "7882   Austria  They could make anything into dessert wine in ...   \n",
       "5289        US  Barrel-fermented and blended with a splash of ...   \n",
       "1130        US  Another small-production stunner from Terre Ro...   \n",
       "4067        US  This pretty wine is rich, dry and softly tanni...   \n",
       "1624        US  This is Barlow's Bordeaux blend. Based on Cabe...   \n",
       "5516  Portugal  An elegant wine, its acidity showing through b...   \n",
       "\n",
       "                            designation  points  price          province  \\\n",
       "6684             Zephyr Private Reserve      91   85.0        California   \n",
       "6702                                NaN      90   10.0        California   \n",
       "338                             El Alto      90   45.0  Colchagua Valley   \n",
       "7482                             Estate      91   25.0        California   \n",
       "7882                            Eiswein      91    NaN        Burgenland   \n",
       "5289                                NaN      87   24.0        California   \n",
       "1130              Monarch Mine Vineyard      92   30.0        California   \n",
       "4067     Maestro Collection Ranch No. 2      92   65.0        California   \n",
       "1624                           Barrouge      90   40.0        California   \n",
       "5516  Presidential Late Bottled Vintage      87   23.0              Port   \n",
       "\n",
       "              region_1          region_2        taster_name  \\\n",
       "6684       Napa Valley              Napa     Virginie Boone   \n",
       "6702        California  California Other         Jim Gordon   \n",
       "338                NaN               NaN  Michael Schachner   \n",
       "7482  Dry Creek Valley            Sonoma                NaN   \n",
       "7882               NaN               NaN         Roger Voss   \n",
       "5289       Napa Valley              Napa     Virginie Boone   \n",
       "1130  Sierra Foothills  Sierra Foothills     Virginie Boone   \n",
       "4067       Napa Valley              Napa                NaN   \n",
       "1624       Napa Valley              Napa                NaN   \n",
       "5516               NaN               NaN         Roger Voss   \n",
       "\n",
       "     taster_twitter_handle                                              title  \\\n",
       "6684               @vboone  Davis Estates 2012 Zephyr Private Reserve Red ...   \n",
       "6702      @gordone_cellars           Cookies & Cream 2010 Merlot (California)   \n",
       "338            @wineschach  Alto Los Romeros 2012 El Alto Red (Colchagua V...   \n",
       "7482                   NaN     Fritz 2009 Estate Zinfandel (Dry Creek Valley)   \n",
       "7882            @vossroger        Höpler 2009 Eiswein Pinot Noir (Burgenland)   \n",
       "5289               @vboone         Bougetz 2013 Sauvignon Blanc (Napa Valley)   \n",
       "1130               @vboone  Terre Rouge 2008 Monarch Mine Vineyard Syrah (...   \n",
       "4067                   NaN  Beaulieu Vineyard 2009 Maestro Collection Ranc...   \n",
       "1624                   NaN             Barlow 2005 Barrouge Red (Napa Valley)   \n",
       "5516            @vossroger  C. da Silva 2004 Presidential Late Bottled Vin...   \n",
       "\n",
       "                       variety             winery  \n",
       "6684  Bordeaux-style Red Blend      Davis Estates  \n",
       "6702                    Merlot    Cookies & Cream  \n",
       "338                  Red Blend   Alto Los Romeros  \n",
       "7482                 Zinfandel              Fritz  \n",
       "7882                Pinot Noir             Höpler  \n",
       "5289           Sauvignon Blanc            Bougetz  \n",
       "1130                     Syrah        Terre Rouge  \n",
       "4067        Cabernet Sauvignon  Beaulieu Vineyard  \n",
       "1624  Bordeaux-style Red Blend             Barlow  \n",
       "5516                      Port        C. da Silva  "
      ]
     },
     "execution_count": 3,
     "metadata": {},
     "output_type": "execute_result"
    }
   ],
   "source": [
    "df.sample(10)  # [['title', 'designation', 'description', 'variety']]"
   ]
  },
  {
   "cell_type": "markdown",
   "id": "cee46d52-621d-4cc4-ad0d-75229d90b343",
   "metadata": {
    "tags": []
   },
   "source": [
    "## Data processing\n",
    "We will process data with 2 goals in mind:\n",
    "* keep the cardinality under control\n",
    "* substitute the missing values with most coherent ones"
   ]
  },
  {
   "cell_type": "markdown",
   "id": "bc2d0d33-a213-4a2e-be4b-a3b9ca47e02e",
   "metadata": {},
   "source": [
    "### Missing Values and Cardinalities"
   ]
  },
  {
   "cell_type": "markdown",
   "id": "d243cf6b-a987-4de9-881f-4fb435c1de8d",
   "metadata": {},
   "source": [
    "From looking at some random points from the dataset, we can see that it contains missing values. \n",
    "We want to have an idea on how many are missing:"
   ]
  },
  {
   "cell_type": "code",
   "execution_count": 4,
   "id": "705571a2-a596-4ed5-9bc3-1a5eee0f7630",
   "metadata": {},
   "outputs": [
    {
     "name": "stdout",
     "output_type": "stream",
     "text": [
      "<class 'pandas.core.frame.DataFrame'>\n",
      "RangeIndex: 7953 entries, 0 to 7952\n",
      "Data columns (total 13 columns):\n",
      " #   Column                 Non-Null Count  Dtype  \n",
      "---  ------                 --------------  -----  \n",
      " 0   country                7947 non-null   object \n",
      " 1   description            7953 non-null   object \n",
      " 2   designation            5699 non-null   object \n",
      " 3   points                 7953 non-null   int64  \n",
      " 4   price                  7403 non-null   float64\n",
      " 5   province               7947 non-null   object \n",
      " 6   region_1               6615 non-null   object \n",
      " 7   region_2               3069 non-null   object \n",
      " 8   taster_name            6350 non-null   object \n",
      " 9   taster_twitter_handle  6064 non-null   object \n",
      " 10  title                  7953 non-null   object \n",
      " 11  variety                7953 non-null   object \n",
      " 12  winery                 7953 non-null   object \n",
      "dtypes: float64(1), int64(1), object(11)\n",
      "memory usage: 807.9+ KB\n"
     ]
    }
   ],
   "source": [
    "df.info()"
   ]
  },
  {
   "cell_type": "code",
   "execution_count": 5,
   "id": "a3bf902c-1720-403b-9d77-436adeb7ec7f",
   "metadata": {},
   "outputs": [
    {
     "data": {
      "text/plain": [
       "description                 0\n",
       "points                      0\n",
       "title                       0\n",
       "variety                     0\n",
       "winery                      0\n",
       "country                     6\n",
       "province                    6\n",
       "price                     550\n",
       "region_1                 1338\n",
       "taster_name              1603\n",
       "taster_twitter_handle    1889\n",
       "designation              2254\n",
       "region_2                 4884\n",
       "dtype: int64"
      ]
     },
     "execution_count": 5,
     "metadata": {},
     "output_type": "execute_result"
    }
   ],
   "source": [
    "df.isnull().sum().sort_values()"
   ]
  },
  {
   "cell_type": "markdown",
   "id": "273711e5-8176-423f-a3d3-1d2a613a1f52",
   "metadata": {},
   "source": [
    "Luckily all the values in the target column for this task (`points`) are non-empty, so we don't have to discard any row. Also `title`, `description`, `variety` and `winery` don't have any missing value. We will explore the other variables to find ways to populate the missing values. If it is not possible to do that in a meaningful way, the variables will just be discarded.\n",
    "\n",
    "We then check the cardinality of each of the variables at hand, and decide what to do with variables that have too many possible variable, which would make the training of a model unstable and unreliable."
   ]
  },
  {
   "cell_type": "code",
   "execution_count": 6,
   "id": "4415507d-1124-4751-bd56-db897e077ce1",
   "metadata": {},
   "outputs": [
    {
     "name": "stdout",
     "output_type": "stream",
     "text": [
      "Variable 'country' has cardinality 35\n",
      "Variable 'description' has cardinality 7953\n",
      "Variable 'designation' has cardinality 4417\n",
      "Variable 'province' has cardinality 231\n",
      "Variable 'region_1' has cardinality 685\n",
      "Variable 'region_2' has cardinality 17\n",
      "Variable 'taster_name' has cardinality 18\n",
      "Variable 'taster_twitter_handle' has cardinality 14\n",
      "Variable 'title' has cardinality 7943\n",
      "Variable 'variety' has cardinality 300\n",
      "Variable 'winery' has cardinality 4700\n"
     ]
    }
   ],
   "source": [
    "object_columns = df.select_dtypes(include=\"object\").columns\n",
    "\n",
    "for column in object_columns:\n",
    "    print(f\"Variable '{column}' has cardinality {df[column].nunique()}\")"
   ]
  },
  {
   "cell_type": "markdown",
   "id": "e9c6062c-a8ce-4fe7-b732-7c470946af32",
   "metadata": {},
   "source": [
    "### Reducing number of possible values for high cardinality variables"
   ]
  },
  {
   "cell_type": "markdown",
   "id": "7546ca68-cfca-4b16-871a-dc7dcc5f993f",
   "metadata": {},
   "source": [
    "Variables `description`, `designation`, `title` and `winery` have a very high cardinality, and must be reduced. Otherwise the number of feature used to train the model will be higher than the number of points, resulting in unstable predictions.\n",
    "\n",
    "We see that title in many cases contains the year of the wine. We can extract that to transform a categorical variable in an easier to use integer numerical one."
   ]
  },
  {
   "cell_type": "code",
   "execution_count": 7,
   "id": "522c8a6e-59e8-47bc-808c-fb2f862f1c26",
   "metadata": {},
   "outputs": [],
   "source": [
    "years = [float('nan') for _ in range(len(df['title']))]\n",
    "for i, title in enumerate(df['title']):\n",
    "    # Find 4 consecutive digits in the title's text\n",
    "    matched_years = re.findall(r\"\\d{4}\", title)\n",
    "    for year in matched_years:\n",
    "        # Only use numbers that might actually be wine years\n",
    "        if year[:2] in ['18', '19', '20']: \n",
    "            years[i] = int(year)\n",
    "        \n",
    "df['year'] = years"
   ]
  },
  {
   "cell_type": "markdown",
   "id": "050b677c-7087-452e-8cb8-0ba26d0cd180",
   "metadata": {},
   "source": [
    "In order to decrease the cardinality of the description variable, the tf-idf algorithm was used to extract the 100 most important important words to a description in the collection of all reviews."
   ]
  },
  {
   "cell_type": "code",
   "execution_count": 8,
   "id": "b477165c-0603-423b-8c16-94590f79e632",
   "metadata": {},
   "outputs": [
    {
     "name": "stdout",
     "output_type": "stream",
     "text": [
      "<class 'pandas.core.frame.DataFrame'>\n",
      "RangeIndex: 7953 entries, 0 to 7952\n",
      "Columns: 114 entries, country to desc_years\n",
      "dtypes: float64(102), int64(1), object(11)\n",
      "memory usage: 6.9+ MB\n",
      "None\n",
      "desc_herb                   0\n",
      "desc_pepper                 0\n",
      "desc_pear                   0\n",
      "desc_peach                  0\n",
      "desc_palate                 0\n",
      "                         ... \n",
      "region_1                 1338\n",
      "taster_name              1603\n",
      "taster_twitter_handle    1889\n",
      "designation              2254\n",
      "region_2                 4884\n",
      "Length: 114, dtype: int64\n"
     ]
    }
   ],
   "source": [
    "vectorizer = TfidfVectorizer(stop_words='english', ngram_range=(1,1), lowercase=True, max_features=100)\n",
    "description_features = vectorizer.fit_transform(df['description'])\n",
    "# print(vectorizer.get_feature_names())\n",
    "\n",
    "dense_features = pd.DataFrame(description_features.toarray())\n",
    "dense_features.columns = [f\"desc_{name}\" for name in vectorizer.get_feature_names()]\n",
    "df = pd.concat([df, dense_features], axis=1)\n",
    "print(df.info())\n",
    "print(df.isnull().sum().sort_values())"
   ]
  },
  {
   "cell_type": "markdown",
   "id": "f0a43c31-ef25-413c-ab6e-5dd7787d985e",
   "metadata": {},
   "source": [
    "It looks like `taster_name` and `taster_twitter_handle` are collinear variables.\n",
    "In order to check if that is true, we count how many taster twitter are linked to each taster name, and vice versa:"
   ]
  },
  {
   "cell_type": "code",
   "execution_count": 9,
   "id": "ad3a86df-b512-4f50-b5fb-45ba68d629c3",
   "metadata": {},
   "outputs": [
    {
     "name": "stdout",
     "output_type": "stream",
     "text": [
      "Twitter accounts connected to each taster\n",
      "{nan: {nan},\n",
      " 'Alexander Peartree': {nan},\n",
      " 'Anna Lee C. Iijima': {nan},\n",
      " 'Anne Krebiehl\\xa0MW': {'@AnneInVino'},\n",
      " 'Carrie Dykes': {nan},\n",
      " 'Fiona Adams': {'@bkfiona'},\n",
      " 'Jeff Jenssen': {'@worldwineguys'},\n",
      " 'Jim Gordon': {'@gordone_cellars'},\n",
      " 'Joe Czerwinski': {'@JoeCz'},\n",
      " 'Kerin O’Keefe': {'@kerinokeefe'},\n",
      " 'Lauren Buzzeo': {'@laurbuzz'},\n",
      " 'Matt Kettmann': {'@mattkettmann'},\n",
      " 'Michael Schachner': {'@wineschach'},\n",
      " 'Mike DeSimone': {'@worldwineguys'},\n",
      " 'Paul Gregutt': {'@paulgwine\\xa0'},\n",
      " 'Roger Voss': {'@vossroger'},\n",
      " 'Sean P. Sullivan': {'@wawinereport'},\n",
      " 'Susan Kostrzewa': {'@suskostrzewa'},\n",
      " 'Virginie Boone': {'@vboone'}}\n",
      "\n",
      "Taster names connected to each twitter account\n",
      "{nan: {'Alexander Peartree', nan, 'Carrie Dykes', 'Anna Lee C. Iijima'},\n",
      " '@AnneInVino': {'Anne Krebiehl\\xa0MW'},\n",
      " '@JoeCz': {'Joe Czerwinski'},\n",
      " '@bkfiona': {'Fiona Adams'},\n",
      " '@gordone_cellars': {'Jim Gordon'},\n",
      " '@kerinokeefe': {'Kerin O’Keefe'},\n",
      " '@laurbuzz': {'Lauren Buzzeo'},\n",
      " '@mattkettmann': {'Matt Kettmann'},\n",
      " '@paulgwine\\xa0': {'Paul Gregutt'},\n",
      " '@suskostrzewa': {'Susan Kostrzewa'},\n",
      " '@vboone': {'Virginie Boone'},\n",
      " '@vossroger': {'Roger Voss'},\n",
      " '@wawinereport': {'Sean P. Sullivan'},\n",
      " '@wineschach': {'Michael Schachner'},\n",
      " '@worldwineguys': {'Jeff Jenssen', 'Mike DeSimone'}}\n"
     ]
    }
   ],
   "source": [
    "tasters_twitter: dict = {}\n",
    "twitters_taster: dict = {}\n",
    "    \n",
    "for name, twitter in zip(df[\"taster_name\"], df[\"taster_twitter_handle\"]):\n",
    "    # Create a dict with a set containing all the twitter accounts connected to a name\n",
    "    if not tasters_twitter.get(name):\n",
    "        tasters_twitter[name] = {twitter}\n",
    "    else:\n",
    "        tasters_twitter[name].add(twitter)\n",
    "    # Create a dict with a set containing all the names connected to a twitter account\n",
    "    if not twitters_taster.get(twitter):\n",
    "        twitters_taster[twitter] = {name}\n",
    "    else:\n",
    "        twitters_taster[twitter].add(name)\n",
    "\n",
    "print(\"Twitter accounts connected to each taster\")\n",
    "pprint(tasters_twitter)\n",
    "print(\"\\nTaster names connected to each twitter account\")\n",
    "pprint(twitters_taster)"
   ]
  },
  {
   "cell_type": "markdown",
   "id": "bb45bcb4-1094-42c5-95c1-183f9e27a245",
   "metadata": {},
   "source": [
    "We can see that there are few tasters that share a twitter account, and some others that don't have one. We will model this, by introducing a new variable for twitter, containing either \"personal\" if only one person is linked to the twitter account, \"missing\" if the taster doesn't have twitter, or the name of the twitter profile if more than one person use the same twitter account. "
   ]
  },
  {
   "cell_type": "code",
   "execution_count": 10,
   "id": "b62ae698-c162-4a4a-9e6f-36c8908b4740",
   "metadata": {},
   "outputs": [],
   "source": [
    "for name, twitter_set in tasters_twitter.items():\n",
    "    if str(name) == \"nan\":\n",
    "        continue\n",
    "    twitter = str(list(twitter_set)[0])\n",
    "    if str(twitter) == \"nan\":\n",
    "        continue\n",
    "    if len(twitters_taster[twitter]) == 1:\n",
    "        df.loc[df[\"taster_name\"] == name, \"taster_twitter_handle\"] = \"personal\"\n",
    "        "
   ]
  },
  {
   "cell_type": "markdown",
   "id": "e2fc48fb-c711-401d-b601-61c05bba36df",
   "metadata": {},
   "source": [
    "### Populating empty values"
   ]
  },
  {
   "cell_type": "markdown",
   "id": "010035b6-0bf2-4a37-b463-9d7c281bf27c",
   "metadata": {},
   "source": [
    "We will check if, for the few data points where country and province are missing, the information can be inferred in any way from other variables"
   ]
  },
  {
   "cell_type": "code",
   "execution_count": 11,
   "id": "d3df8c3e-5ab4-4273-a973-68cdddcbbf51",
   "metadata": {},
   "outputs": [
    {
     "data": {
      "text/html": [
       "<div>\n",
       "<style scoped>\n",
       "    .dataframe tbody tr th:only-of-type {\n",
       "        vertical-align: middle;\n",
       "    }\n",
       "\n",
       "    .dataframe tbody tr th {\n",
       "        vertical-align: top;\n",
       "    }\n",
       "\n",
       "    .dataframe thead th {\n",
       "        text-align: right;\n",
       "    }\n",
       "</style>\n",
       "<table border=\"1\" class=\"dataframe\">\n",
       "  <thead>\n",
       "    <tr style=\"text-align: right;\">\n",
       "      <th></th>\n",
       "      <th>country</th>\n",
       "      <th>description</th>\n",
       "      <th>designation</th>\n",
       "      <th>points</th>\n",
       "      <th>price</th>\n",
       "      <th>province</th>\n",
       "      <th>region_1</th>\n",
       "      <th>region_2</th>\n",
       "      <th>taster_name</th>\n",
       "      <th>taster_twitter_handle</th>\n",
       "      <th>...</th>\n",
       "      <th>desc_texture</th>\n",
       "      <th>desc_toast</th>\n",
       "      <th>desc_tobacco</th>\n",
       "      <th>desc_touch</th>\n",
       "      <th>desc_vanilla</th>\n",
       "      <th>desc_vineyard</th>\n",
       "      <th>desc_white</th>\n",
       "      <th>desc_wine</th>\n",
       "      <th>desc_wood</th>\n",
       "      <th>desc_years</th>\n",
       "    </tr>\n",
       "  </thead>\n",
       "  <tbody>\n",
       "    <tr>\n",
       "      <th>1868</th>\n",
       "      <td>NaN</td>\n",
       "      <td>Almost caramel in color, this wine offers arom...</td>\n",
       "      <td>Babaneuri Valley</td>\n",
       "      <td>87</td>\n",
       "      <td>30.0</td>\n",
       "      <td>NaN</td>\n",
       "      <td>NaN</td>\n",
       "      <td>NaN</td>\n",
       "      <td>Mike DeSimone</td>\n",
       "      <td>@worldwineguys</td>\n",
       "      <td>...</td>\n",
       "      <td>0.0</td>\n",
       "      <td>0.0</td>\n",
       "      <td>0.000000</td>\n",
       "      <td>0.000000</td>\n",
       "      <td>0.271141</td>\n",
       "      <td>0.0</td>\n",
       "      <td>0.0</td>\n",
       "      <td>0.132966</td>\n",
       "      <td>0.0</td>\n",
       "      <td>0.0</td>\n",
       "    </tr>\n",
       "    <tr>\n",
       "      <th>1913</th>\n",
       "      <td>NaN</td>\n",
       "      <td>Soft, fruity and juicy, this is a pleasant, si...</td>\n",
       "      <td>Partager</td>\n",
       "      <td>83</td>\n",
       "      <td>NaN</td>\n",
       "      <td>NaN</td>\n",
       "      <td>NaN</td>\n",
       "      <td>NaN</td>\n",
       "      <td>Roger Voss</td>\n",
       "      <td>personal</td>\n",
       "      <td>...</td>\n",
       "      <td>0.0</td>\n",
       "      <td>0.0</td>\n",
       "      <td>0.000000</td>\n",
       "      <td>0.000000</td>\n",
       "      <td>0.000000</td>\n",
       "      <td>0.0</td>\n",
       "      <td>0.0</td>\n",
       "      <td>0.210480</td>\n",
       "      <td>0.0</td>\n",
       "      <td>0.0</td>\n",
       "    </tr>\n",
       "    <tr>\n",
       "      <th>6152</th>\n",
       "      <td>NaN</td>\n",
       "      <td>Amber to the eye, this wine features an entici...</td>\n",
       "      <td>Dry Unfiltered Rkatsiteli Mtsvane</td>\n",
       "      <td>88</td>\n",
       "      <td>25.0</td>\n",
       "      <td>NaN</td>\n",
       "      <td>NaN</td>\n",
       "      <td>NaN</td>\n",
       "      <td>Mike DeSimone</td>\n",
       "      <td>@worldwineguys</td>\n",
       "      <td>...</td>\n",
       "      <td>0.0</td>\n",
       "      <td>0.0</td>\n",
       "      <td>0.000000</td>\n",
       "      <td>0.398451</td>\n",
       "      <td>0.000000</td>\n",
       "      <td>0.0</td>\n",
       "      <td>0.0</td>\n",
       "      <td>0.187000</td>\n",
       "      <td>0.0</td>\n",
       "      <td>0.0</td>\n",
       "    </tr>\n",
       "    <tr>\n",
       "      <th>6330</th>\n",
       "      <td>NaN</td>\n",
       "      <td>Made from 100% Melnick this garnet-colored win...</td>\n",
       "      <td>Nobile</td>\n",
       "      <td>88</td>\n",
       "      <td>23.0</td>\n",
       "      <td>NaN</td>\n",
       "      <td>NaN</td>\n",
       "      <td>NaN</td>\n",
       "      <td>Jeff Jenssen</td>\n",
       "      <td>@worldwineguys</td>\n",
       "      <td>...</td>\n",
       "      <td>0.0</td>\n",
       "      <td>0.0</td>\n",
       "      <td>0.391303</td>\n",
       "      <td>0.000000</td>\n",
       "      <td>0.000000</td>\n",
       "      <td>0.0</td>\n",
       "      <td>0.0</td>\n",
       "      <td>0.160748</td>\n",
       "      <td>0.0</td>\n",
       "      <td>0.0</td>\n",
       "    </tr>\n",
       "    <tr>\n",
       "      <th>6796</th>\n",
       "      <td>NaN</td>\n",
       "      <td>Basic cherry aromas turn more earthy and soupy...</td>\n",
       "      <td>Reserva Estate Bottled</td>\n",
       "      <td>85</td>\n",
       "      <td>12.0</td>\n",
       "      <td>NaN</td>\n",
       "      <td>NaN</td>\n",
       "      <td>NaN</td>\n",
       "      <td>Michael Schachner</td>\n",
       "      <td>personal</td>\n",
       "      <td>...</td>\n",
       "      <td>0.0</td>\n",
       "      <td>0.0</td>\n",
       "      <td>0.000000</td>\n",
       "      <td>0.000000</td>\n",
       "      <td>0.000000</td>\n",
       "      <td>0.0</td>\n",
       "      <td>0.0</td>\n",
       "      <td>0.000000</td>\n",
       "      <td>0.0</td>\n",
       "      <td>0.0</td>\n",
       "    </tr>\n",
       "    <tr>\n",
       "      <th>7862</th>\n",
       "      <td>NaN</td>\n",
       "      <td>This wine is made from grapes grown in the Lak...</td>\n",
       "      <td>Márga</td>\n",
       "      <td>89</td>\n",
       "      <td>18.0</td>\n",
       "      <td>NaN</td>\n",
       "      <td>NaN</td>\n",
       "      <td>NaN</td>\n",
       "      <td>Jeff Jenssen</td>\n",
       "      <td>@worldwineguys</td>\n",
       "      <td>...</td>\n",
       "      <td>0.0</td>\n",
       "      <td>0.0</td>\n",
       "      <td>0.000000</td>\n",
       "      <td>0.000000</td>\n",
       "      <td>0.254784</td>\n",
       "      <td>0.0</td>\n",
       "      <td>0.0</td>\n",
       "      <td>0.124944</td>\n",
       "      <td>0.0</td>\n",
       "      <td>0.0</td>\n",
       "    </tr>\n",
       "  </tbody>\n",
       "</table>\n",
       "<p>6 rows × 114 columns</p>\n",
       "</div>"
      ],
      "text/plain": [
       "     country                                        description  \\\n",
       "1868     NaN  Almost caramel in color, this wine offers arom...   \n",
       "1913     NaN  Soft, fruity and juicy, this is a pleasant, si...   \n",
       "6152     NaN  Amber to the eye, this wine features an entici...   \n",
       "6330     NaN  Made from 100% Melnick this garnet-colored win...   \n",
       "6796     NaN  Basic cherry aromas turn more earthy and soupy...   \n",
       "7862     NaN  This wine is made from grapes grown in the Lak...   \n",
       "\n",
       "                            designation  points  price province region_1  \\\n",
       "1868                   Babaneuri Valley      87   30.0      NaN      NaN   \n",
       "1913                           Partager      83    NaN      NaN      NaN   \n",
       "6152  Dry Unfiltered Rkatsiteli Mtsvane      88   25.0      NaN      NaN   \n",
       "6330                             Nobile      88   23.0      NaN      NaN   \n",
       "6796             Reserva Estate Bottled      85   12.0      NaN      NaN   \n",
       "7862                              Márga      89   18.0      NaN      NaN   \n",
       "\n",
       "     region_2        taster_name taster_twitter_handle  ... desc_texture  \\\n",
       "1868      NaN      Mike DeSimone        @worldwineguys  ...          0.0   \n",
       "1913      NaN         Roger Voss              personal  ...          0.0   \n",
       "6152      NaN      Mike DeSimone        @worldwineguys  ...          0.0   \n",
       "6330      NaN       Jeff Jenssen        @worldwineguys  ...          0.0   \n",
       "6796      NaN  Michael Schachner              personal  ...          0.0   \n",
       "7862      NaN       Jeff Jenssen        @worldwineguys  ...          0.0   \n",
       "\n",
       "     desc_toast desc_tobacco  desc_touch  desc_vanilla  desc_vineyard  \\\n",
       "1868        0.0     0.000000    0.000000      0.271141            0.0   \n",
       "1913        0.0     0.000000    0.000000      0.000000            0.0   \n",
       "6152        0.0     0.000000    0.398451      0.000000            0.0   \n",
       "6330        0.0     0.391303    0.000000      0.000000            0.0   \n",
       "6796        0.0     0.000000    0.000000      0.000000            0.0   \n",
       "7862        0.0     0.000000    0.000000      0.254784            0.0   \n",
       "\n",
       "      desc_white  desc_wine  desc_wood  desc_years  \n",
       "1868         0.0   0.132966        0.0         0.0  \n",
       "1913         0.0   0.210480        0.0         0.0  \n",
       "6152         0.0   0.187000        0.0         0.0  \n",
       "6330         0.0   0.160748        0.0         0.0  \n",
       "6796         0.0   0.000000        0.0         0.0  \n",
       "7862         0.0   0.124944        0.0         0.0  \n",
       "\n",
       "[6 rows x 114 columns]"
      ]
     },
     "execution_count": 11,
     "metadata": {},
     "output_type": "execute_result"
    }
   ],
   "source": [
    "missing_country_indices = df[df['country'].isnull()].index\n",
    "df[df['country'].isnull()]"
   ]
  },
  {
   "cell_type": "markdown",
   "id": "790b3eda-4ba7-4e0b-892a-ade4815bdf47",
   "metadata": {},
   "source": [
    "For some wines, the winery is available, but country, province and region are not.\n",
    "\n",
    "If the same winery has any other wine in the dataset, we can use that to fill the gap, assuming a winery is linked to a specific country."
   ]
  },
  {
   "cell_type": "code",
   "execution_count": 12,
   "id": "77f6f231-f09a-4847-b413-143089bcbb82",
   "metadata": {},
   "outputs": [
    {
     "name": "stdout",
     "output_type": "stream",
     "text": [
      "No other wines found for winery 'Gotsa Family Wines'\n",
      "No other wines found for winery 'Gotsa Family Wines'\n",
      "No other wines found for winery 'Logodaj'\n",
      "No other wines found for winery 'St. Donat'\n"
     ]
    },
    {
     "name": "stderr",
     "output_type": "stream",
     "text": [
      "/home/alberto/.local/share/virtualenvs/code-challenge-2020-VvJGR1c4/lib/python3.6/site-packages/ipykernel_launcher.py:3: UserWarning: Boolean Series key will be reindexed to match DataFrame index.\n",
      "  This is separate from the ipykernel package so we can avoid doing imports until\n"
     ]
    }
   ],
   "source": [
    "for winery in df[df['country'].isnull()]['winery']:\n",
    "    # Search for wines from the same winery\n",
    "    wines_same_winery = df[df['winery'] == winery][df['country'].notna()]\n",
    "    if wines_same_winery.empty:\n",
    "        print(f\"No other wines found for winery '{winery}'\")\n",
    "    else:\n",
    "        # Take the country from a wine from the same winery\n",
    "        country = wines_same_winery['country'].iloc[0]\n",
    "        \n",
    "        # Assign it to the wines without a country\n",
    "        df.loc[(df['country'].isnull()) & (df['winery'] == winery), \"country\"] = country\n",
    "        \n",
    "        # If the wines have a province, use it also to fill in the missing ones.\n",
    "        if not wines_same_winery['province'].empty:\n",
    "            region = wines_same_winery['province'].iloc[0]\n",
    "            df.loc[(df['province'].isnull()) & (df['winery'] == winery), \"province\"] = region\n",
    "        \n",
    "        # If the wines have a province, use it also to fill in the missing ones.\n",
    "        if not wines_same_winery['region_1'].empty:\n",
    "            region = wines_same_winery['region_1'].iloc[0]\n",
    "            df.loc[(df['region_1'].isnull()) & (df['winery'] == winery), \"region_1\"] = region"
   ]
  },
  {
   "cell_type": "markdown",
   "id": "073d6337-89be-4b23-8cf5-2e5b12477d28",
   "metadata": {},
   "source": [
    "We check now what of these data point null entries are added:"
   ]
  },
  {
   "cell_type": "code",
   "execution_count": 13,
   "id": "40f4e27c-52e4-4264-8cb7-1255619b6e59",
   "metadata": {},
   "outputs": [
    {
     "data": {
      "text/html": [
       "<div>\n",
       "<style scoped>\n",
       "    .dataframe tbody tr th:only-of-type {\n",
       "        vertical-align: middle;\n",
       "    }\n",
       "\n",
       "    .dataframe tbody tr th {\n",
       "        vertical-align: top;\n",
       "    }\n",
       "\n",
       "    .dataframe thead th {\n",
       "        text-align: right;\n",
       "    }\n",
       "</style>\n",
       "<table border=\"1\" class=\"dataframe\">\n",
       "  <thead>\n",
       "    <tr style=\"text-align: right;\">\n",
       "      <th></th>\n",
       "      <th>country</th>\n",
       "      <th>description</th>\n",
       "      <th>designation</th>\n",
       "      <th>points</th>\n",
       "      <th>price</th>\n",
       "      <th>province</th>\n",
       "      <th>region_1</th>\n",
       "      <th>region_2</th>\n",
       "      <th>taster_name</th>\n",
       "      <th>taster_twitter_handle</th>\n",
       "      <th>...</th>\n",
       "      <th>desc_texture</th>\n",
       "      <th>desc_toast</th>\n",
       "      <th>desc_tobacco</th>\n",
       "      <th>desc_touch</th>\n",
       "      <th>desc_vanilla</th>\n",
       "      <th>desc_vineyard</th>\n",
       "      <th>desc_white</th>\n",
       "      <th>desc_wine</th>\n",
       "      <th>desc_wood</th>\n",
       "      <th>desc_years</th>\n",
       "    </tr>\n",
       "  </thead>\n",
       "  <tbody>\n",
       "    <tr>\n",
       "      <th>1868</th>\n",
       "      <td>NaN</td>\n",
       "      <td>Almost caramel in color, this wine offers arom...</td>\n",
       "      <td>Babaneuri Valley</td>\n",
       "      <td>87</td>\n",
       "      <td>30.0</td>\n",
       "      <td>NaN</td>\n",
       "      <td>NaN</td>\n",
       "      <td>NaN</td>\n",
       "      <td>Mike DeSimone</td>\n",
       "      <td>@worldwineguys</td>\n",
       "      <td>...</td>\n",
       "      <td>0.0</td>\n",
       "      <td>0.0</td>\n",
       "      <td>0.000000</td>\n",
       "      <td>0.000000</td>\n",
       "      <td>0.271141</td>\n",
       "      <td>0.0</td>\n",
       "      <td>0.0</td>\n",
       "      <td>0.132966</td>\n",
       "      <td>0.0</td>\n",
       "      <td>0.0</td>\n",
       "    </tr>\n",
       "    <tr>\n",
       "      <th>1913</th>\n",
       "      <td>France</td>\n",
       "      <td>Soft, fruity and juicy, this is a pleasant, si...</td>\n",
       "      <td>Partager</td>\n",
       "      <td>83</td>\n",
       "      <td>NaN</td>\n",
       "      <td>Languedoc-Roussillon</td>\n",
       "      <td>Vin de Pays d'Oc</td>\n",
       "      <td>NaN</td>\n",
       "      <td>Roger Voss</td>\n",
       "      <td>personal</td>\n",
       "      <td>...</td>\n",
       "      <td>0.0</td>\n",
       "      <td>0.0</td>\n",
       "      <td>0.000000</td>\n",
       "      <td>0.000000</td>\n",
       "      <td>0.000000</td>\n",
       "      <td>0.0</td>\n",
       "      <td>0.0</td>\n",
       "      <td>0.210480</td>\n",
       "      <td>0.0</td>\n",
       "      <td>0.0</td>\n",
       "    </tr>\n",
       "    <tr>\n",
       "      <th>6152</th>\n",
       "      <td>NaN</td>\n",
       "      <td>Amber to the eye, this wine features an entici...</td>\n",
       "      <td>Dry Unfiltered Rkatsiteli Mtsvane</td>\n",
       "      <td>88</td>\n",
       "      <td>25.0</td>\n",
       "      <td>NaN</td>\n",
       "      <td>NaN</td>\n",
       "      <td>NaN</td>\n",
       "      <td>Mike DeSimone</td>\n",
       "      <td>@worldwineguys</td>\n",
       "      <td>...</td>\n",
       "      <td>0.0</td>\n",
       "      <td>0.0</td>\n",
       "      <td>0.000000</td>\n",
       "      <td>0.398451</td>\n",
       "      <td>0.000000</td>\n",
       "      <td>0.0</td>\n",
       "      <td>0.0</td>\n",
       "      <td>0.187000</td>\n",
       "      <td>0.0</td>\n",
       "      <td>0.0</td>\n",
       "    </tr>\n",
       "    <tr>\n",
       "      <th>6330</th>\n",
       "      <td>NaN</td>\n",
       "      <td>Made from 100% Melnick this garnet-colored win...</td>\n",
       "      <td>Nobile</td>\n",
       "      <td>88</td>\n",
       "      <td>23.0</td>\n",
       "      <td>NaN</td>\n",
       "      <td>NaN</td>\n",
       "      <td>NaN</td>\n",
       "      <td>Jeff Jenssen</td>\n",
       "      <td>@worldwineguys</td>\n",
       "      <td>...</td>\n",
       "      <td>0.0</td>\n",
       "      <td>0.0</td>\n",
       "      <td>0.391303</td>\n",
       "      <td>0.000000</td>\n",
       "      <td>0.000000</td>\n",
       "      <td>0.0</td>\n",
       "      <td>0.0</td>\n",
       "      <td>0.160748</td>\n",
       "      <td>0.0</td>\n",
       "      <td>0.0</td>\n",
       "    </tr>\n",
       "    <tr>\n",
       "      <th>6796</th>\n",
       "      <td>Chile</td>\n",
       "      <td>Basic cherry aromas turn more earthy and soupy...</td>\n",
       "      <td>Reserva Estate Bottled</td>\n",
       "      <td>85</td>\n",
       "      <td>12.0</td>\n",
       "      <td>Maule Valley</td>\n",
       "      <td>NaN</td>\n",
       "      <td>NaN</td>\n",
       "      <td>Michael Schachner</td>\n",
       "      <td>personal</td>\n",
       "      <td>...</td>\n",
       "      <td>0.0</td>\n",
       "      <td>0.0</td>\n",
       "      <td>0.000000</td>\n",
       "      <td>0.000000</td>\n",
       "      <td>0.000000</td>\n",
       "      <td>0.0</td>\n",
       "      <td>0.0</td>\n",
       "      <td>0.000000</td>\n",
       "      <td>0.0</td>\n",
       "      <td>0.0</td>\n",
       "    </tr>\n",
       "    <tr>\n",
       "      <th>7862</th>\n",
       "      <td>NaN</td>\n",
       "      <td>This wine is made from grapes grown in the Lak...</td>\n",
       "      <td>Márga</td>\n",
       "      <td>89</td>\n",
       "      <td>18.0</td>\n",
       "      <td>NaN</td>\n",
       "      <td>NaN</td>\n",
       "      <td>NaN</td>\n",
       "      <td>Jeff Jenssen</td>\n",
       "      <td>@worldwineguys</td>\n",
       "      <td>...</td>\n",
       "      <td>0.0</td>\n",
       "      <td>0.0</td>\n",
       "      <td>0.000000</td>\n",
       "      <td>0.000000</td>\n",
       "      <td>0.254784</td>\n",
       "      <td>0.0</td>\n",
       "      <td>0.0</td>\n",
       "      <td>0.124944</td>\n",
       "      <td>0.0</td>\n",
       "      <td>0.0</td>\n",
       "    </tr>\n",
       "  </tbody>\n",
       "</table>\n",
       "<p>6 rows × 114 columns</p>\n",
       "</div>"
      ],
      "text/plain": [
       "     country                                        description  \\\n",
       "1868     NaN  Almost caramel in color, this wine offers arom...   \n",
       "1913  France  Soft, fruity and juicy, this is a pleasant, si...   \n",
       "6152     NaN  Amber to the eye, this wine features an entici...   \n",
       "6330     NaN  Made from 100% Melnick this garnet-colored win...   \n",
       "6796   Chile  Basic cherry aromas turn more earthy and soupy...   \n",
       "7862     NaN  This wine is made from grapes grown in the Lak...   \n",
       "\n",
       "                            designation  points  price              province  \\\n",
       "1868                   Babaneuri Valley      87   30.0                   NaN   \n",
       "1913                           Partager      83    NaN  Languedoc-Roussillon   \n",
       "6152  Dry Unfiltered Rkatsiteli Mtsvane      88   25.0                   NaN   \n",
       "6330                             Nobile      88   23.0                   NaN   \n",
       "6796             Reserva Estate Bottled      85   12.0          Maule Valley   \n",
       "7862                              Márga      89   18.0                   NaN   \n",
       "\n",
       "              region_1 region_2        taster_name taster_twitter_handle  ...  \\\n",
       "1868               NaN      NaN      Mike DeSimone        @worldwineguys  ...   \n",
       "1913  Vin de Pays d'Oc      NaN         Roger Voss              personal  ...   \n",
       "6152               NaN      NaN      Mike DeSimone        @worldwineguys  ...   \n",
       "6330               NaN      NaN       Jeff Jenssen        @worldwineguys  ...   \n",
       "6796               NaN      NaN  Michael Schachner              personal  ...   \n",
       "7862               NaN      NaN       Jeff Jenssen        @worldwineguys  ...   \n",
       "\n",
       "     desc_texture desc_toast desc_tobacco  desc_touch  desc_vanilla  \\\n",
       "1868          0.0        0.0     0.000000    0.000000      0.271141   \n",
       "1913          0.0        0.0     0.000000    0.000000      0.000000   \n",
       "6152          0.0        0.0     0.000000    0.398451      0.000000   \n",
       "6330          0.0        0.0     0.391303    0.000000      0.000000   \n",
       "6796          0.0        0.0     0.000000    0.000000      0.000000   \n",
       "7862          0.0        0.0     0.000000    0.000000      0.254784   \n",
       "\n",
       "      desc_vineyard  desc_white  desc_wine  desc_wood  desc_years  \n",
       "1868            0.0         0.0   0.132966        0.0         0.0  \n",
       "1913            0.0         0.0   0.210480        0.0         0.0  \n",
       "6152            0.0         0.0   0.187000        0.0         0.0  \n",
       "6330            0.0         0.0   0.160748        0.0         0.0  \n",
       "6796            0.0         0.0   0.000000        0.0         0.0  \n",
       "7862            0.0         0.0   0.124944        0.0         0.0  \n",
       "\n",
       "[6 rows x 114 columns]"
      ]
     },
     "execution_count": 13,
     "metadata": {},
     "output_type": "execute_result"
    }
   ],
   "source": [
    "df.iloc[missing_country_indices]"
   ]
  },
  {
   "cell_type": "markdown",
   "id": "f01a8488-d09d-48cc-b375-7eb7188316fc",
   "metadata": {},
   "source": [
    "In order to fill up the remaining values, we use the country, province and region from the same taster, starting from the assumption that a taster tastes mostly wines from the same area."
   ]
  },
  {
   "cell_type": "code",
   "execution_count": 14,
   "id": "f3ca858b-779c-4817-a713-2851b312430d",
   "metadata": {},
   "outputs": [
    {
     "name": "stderr",
     "output_type": "stream",
     "text": [
      "/home/alberto/.local/share/virtualenvs/code-challenge-2020-VvJGR1c4/lib/python3.6/site-packages/ipykernel_launcher.py:3: UserWarning: Boolean Series key will be reindexed to match DataFrame index.\n",
      "  This is separate from the ipykernel package so we can avoid doing imports until\n"
     ]
    }
   ],
   "source": [
    "for taster in df[df['country'].isnull()]['taster_name']:\n",
    "    # Take all the reviews from the taster that have country and province\n",
    "    reviews_same_taster = df[df['taster_name'] == taster][(df['country'].notna())&(df['province'].notna())]\n",
    "    # Count the number of reviews for each province\n",
    "    reviews_per_province = reviews_same_taster.groupby(['province'])['country'].count()\n",
    "    # Identify province with most reviews\n",
    "    most_reviews_single_province = max(reviews_per_province)\n",
    "    for province, count in reviews_per_province.to_dict().items():\n",
    "        if count == most_reviews_single_province:\n",
    "            # Assume the same province is from the same country\n",
    "            df.loc[(((df['country'].isna()) | (df['province'].isna()))&df['taster_name'] == taster), \"province\"] = province\n",
    "            country = reviews_same_taster[reviews_same_taster[\"province\"]==province][\"country\"].iloc[0]\n",
    "            df.loc[(((df['country'].isna()) | (df['province'].isna()))&df['taster_name'] == taster), \"country\"] = country\n",
    "            break"
   ]
  },
  {
   "cell_type": "code",
   "execution_count": 15,
   "id": "0fce4df5-a4fc-41a1-abec-d307445d1ab1",
   "metadata": {},
   "outputs": [
    {
     "data": {
      "text/plain": [
       "<AxesSubplot:ylabel='price'>"
      ]
     },
     "execution_count": 15,
     "metadata": {},
     "output_type": "execute_result"
    },
    {
     "data": {
      "image/png": "[encoded data removed]",
      "text/plain": [
       "<Figure size 720x720 with 1 Axes>"
      ]
     },
     "metadata": {
      "needs_background": "light"
     },
     "output_type": "display_data"
    }
   ],
   "source": [
    "plt.figure(figsize=(10, 10))\n",
    "sns.boxplot(data=df, y=\"price\", orient=\"v\")"
   ]
  },
  {
   "cell_type": "code",
   "execution_count": 16,
   "id": "7cc54132-9edc-4a15-bccf-37397874c4f3",
   "metadata": {},
   "outputs": [
    {
     "data": {
      "text/plain": [
       "<AxesSubplot:xlabel='price', ylabel='Count'>"
      ]
     },
     "execution_count": 16,
     "metadata": {},
     "output_type": "execute_result"
    },
    {
     "data": {
      "image/png": "[encoded data removed]",
      "text/plain": [
       "<Figure size 1800x720 with 1 Axes>"
      ]
     },
     "metadata": {
      "needs_background": "light"
     },
     "output_type": "display_data"
    }
   ],
   "source": [
    "plt.figure(figsize=(25, 10))\n",
    "sns.histplot(data=df, x=\"price\", binwidth = 3)"
   ]
  },
  {
   "cell_type": "markdown",
   "id": "7df90477-506f-4166-8924-a6a3f16016a8",
   "metadata": {},
   "source": [
    "Both the boxplot and the histogram of the price, show that it has a distribution skewed closed to 0, with some very expensive wines as outliers."
   ]
  },
  {
   "cell_type": "markdown",
   "id": "85df9b61-0ba1-440a-88f3-3baa6b2ed630",
   "metadata": {},
   "source": [
    "We want to check how price and the score given to the wine are correlated.\n",
    "The price is limited to 100 in order to exclude outliers from the visualization.\n",
    "\n",
    "The scatterplot and the pearson correlation coefficient shows some correlation, so we can expect the price to be a good predictor for the points assigned to the wine. "
   ]
  },
  {
   "cell_type": "code",
   "execution_count": 17,
   "id": "e7d9d498-bef7-4c85-a482-aaa62e20c002",
   "metadata": {
    "tags": []
   },
   "outputs": [
    {
     "data": {
      "text/html": [
       "<div>\n",
       "<style scoped>\n",
       "    .dataframe tbody tr th:only-of-type {\n",
       "        vertical-align: middle;\n",
       "    }\n",
       "\n",
       "    .dataframe tbody tr th {\n",
       "        vertical-align: top;\n",
       "    }\n",
       "\n",
       "    .dataframe thead th {\n",
       "        text-align: right;\n",
       "    }\n",
       "</style>\n",
       "<table border=\"1\" class=\"dataframe\">\n",
       "  <thead>\n",
       "    <tr style=\"text-align: right;\">\n",
       "      <th></th>\n",
       "      <th>points</th>\n",
       "      <th>price</th>\n",
       "    </tr>\n",
       "  </thead>\n",
       "  <tbody>\n",
       "    <tr>\n",
       "      <th>points</th>\n",
       "      <td>1.000000</td>\n",
       "      <td>0.447162</td>\n",
       "    </tr>\n",
       "    <tr>\n",
       "      <th>price</th>\n",
       "      <td>0.447162</td>\n",
       "      <td>1.000000</td>\n",
       "    </tr>\n",
       "  </tbody>\n",
       "</table>\n",
       "</div>"
      ],
      "text/plain": [
       "          points     price\n",
       "points  1.000000  0.447162\n",
       "price   0.447162  1.000000"
      ]
     },
     "execution_count": 17,
     "metadata": {},
     "output_type": "execute_result"
    },
    {
     "data": {
      "image/png": "[encoded data removed]",
      "text/plain": [
       "<Figure size 720x720 with 1 Axes>"
      ]
     },
     "metadata": {
      "needs_background": "light"
     },
     "output_type": "display_data"
    }
   ],
   "source": [
    "plt.figure(figsize=(10, 10))\n",
    "sns.scatterplot(data=df[df[\"price\"]<100], x=\"points\", y=\"price\")\n",
    "df[[\"points\", \"price\"]].corr(method=\"pearson\")"
   ]
  },
  {
   "cell_type": "code",
   "execution_count": 18,
   "id": "c413b116-8a46-4a39-a479-e817526c4ca8",
   "metadata": {},
   "outputs": [
    {
     "data": {
      "text/plain": [
       "<AxesSubplot:xlabel='year', ylabel='Count'>"
      ]
     },
     "execution_count": 18,
     "metadata": {},
     "output_type": "execute_result"
    },
    {
     "data": {
      "image/png": "[encoded data removed]",
      "text/plain": [
       "<Figure size 1800x720 with 1 Axes>"
      ]
     },
     "metadata": {
      "needs_background": "light"
     },
     "output_type": "display_data"
    }
   ],
   "source": [
    "plt.figure(figsize=(25, 10))\n",
    "sns.histplot(data=df, x=\"year\", binwidth = 1)"
   ]
  },
  {
   "cell_type": "markdown",
   "id": "a515688e-7b43-4b26-b25b-c6844e49567b",
   "metadata": {},
   "source": [
    "The other only numerical variable is year, for which we also check the correlation and scatterplot.\n",
    "The year is above 1975 in order to exclude outliers from the visualization.\n",
    "\n",
    "This time the correlation is almost non-existent, so we don't expect this variable alone to have a lot of predictive power over the score of a wine."
   ]
  },
  {
   "cell_type": "code",
   "execution_count": 19,
   "id": "b1ad0ded-e393-4c39-9148-7d9b255afbf2",
   "metadata": {},
   "outputs": [
    {
     "data": {
      "text/html": [
       "<div>\n",
       "<style scoped>\n",
       "    .dataframe tbody tr th:only-of-type {\n",
       "        vertical-align: middle;\n",
       "    }\n",
       "\n",
       "    .dataframe tbody tr th {\n",
       "        vertical-align: top;\n",
       "    }\n",
       "\n",
       "    .dataframe thead th {\n",
       "        text-align: right;\n",
       "    }\n",
       "</style>\n",
       "<table border=\"1\" class=\"dataframe\">\n",
       "  <thead>\n",
       "    <tr style=\"text-align: right;\">\n",
       "      <th></th>\n",
       "      <th>points</th>\n",
       "      <th>year</th>\n",
       "    </tr>\n",
       "  </thead>\n",
       "  <tbody>\n",
       "    <tr>\n",
       "      <th>points</th>\n",
       "      <td>1.000000</td>\n",
       "      <td>0.025313</td>\n",
       "    </tr>\n",
       "    <tr>\n",
       "      <th>year</th>\n",
       "      <td>0.025313</td>\n",
       "      <td>1.000000</td>\n",
       "    </tr>\n",
       "  </tbody>\n",
       "</table>\n",
       "</div>"
      ],
      "text/plain": [
       "          points      year\n",
       "points  1.000000  0.025313\n",
       "year    0.025313  1.000000"
      ]
     },
     "execution_count": 19,
     "metadata": {},
     "output_type": "execute_result"
    },
    {
     "data": {
      "image/png": "[encoded data removed]",
      "text/plain": [
       "<Figure size 720x720 with 1 Axes>"
      ]
     },
     "metadata": {
      "needs_background": "light"
     },
     "output_type": "display_data"
    }
   ],
   "source": [
    "plt.figure(figsize=(10, 10))\n",
    "sns.scatterplot(data=df[df[\"year\"]>1975], x=\"points\", y=\"year\")\n",
    "df[[\"points\", \"year\"]].corr(method=\"pearson\")"
   ]
  },
  {
   "cell_type": "markdown",
   "id": "41e20a2f-401c-4130-aa0e-6c56e1e3f246",
   "metadata": {},
   "source": [
    "We fill the empty values for numerical columns with the median, so that outliers do not impact too much on the assigned value.\n",
    "\n",
    "We notice that `region_2` is present only for US wines. Hence we populate the empty values with the string `not_US`"
   ]
  },
  {
   "cell_type": "code",
   "execution_count": 20,
   "id": "32f7b261-d6ff-4cbc-b8ab-c3c95ec7fd0c",
   "metadata": {},
   "outputs": [],
   "source": [
    "df[\"year\"] = df[\"year\"].fillna(df[\"year\"].median())\n",
    "df[\"price\"] = df[\"price\"].fillna(df[\"price\"].median())\n",
    "df['region_2'] = df['region_2'].fillna(\"not_US\")\n",
    "df['region_1'] = df['region_1'].fillna(\"unknown\")\n",
    "df['taster_name'] = df['taster_name'].fillna(\"unknown\")\n",
    "df['taster_twitter_handle'] = df['taster_twitter_handle'].fillna(\"missing\")"
   ]
  },
  {
   "cell_type": "markdown",
   "id": "56aa5a89-09d3-458b-9158-f63e07a6fb75",
   "metadata": {},
   "source": [
    "Since the description column has been modeled, we can drop it. We also drop the title, which we used to extract the year, and designation, which has high cardinality, high number of empty values."
   ]
  },
  {
   "cell_type": "code",
   "execution_count": 21,
   "id": "e19d12f2-b36d-4720-8579-a4362d1f6e40",
   "metadata": {},
   "outputs": [],
   "source": [
    "df = df.drop(columns=['description', 'designation', 'title', 'winery'])"
   ]
  },
  {
   "cell_type": "code",
   "execution_count": 22,
   "id": "b0915551-236c-4573-a583-a55d4f5b7653",
   "metadata": {},
   "outputs": [
    {
     "name": "stdout",
     "output_type": "stream",
     "text": [
      "Variable 'country' has cardinality 35\n",
      "Variable 'province' has cardinality 231\n",
      "Variable 'region_1' has cardinality 686\n",
      "Variable 'region_2' has cardinality 18\n",
      "Variable 'taster_name' has cardinality 19\n",
      "Variable 'taster_twitter_handle' has cardinality 3\n",
      "Variable 'variety' has cardinality 300\n"
     ]
    }
   ],
   "source": [
    "object_columns = df.select_dtypes(include=\"object\").columns\n",
    "for column in object_columns:\n",
    "    print(f\"Variable '{column}' has cardinality {df[column].nunique()}\")"
   ]
  },
  {
   "cell_type": "code",
   "execution_count": 23,
   "id": "9ecec194-c2ec-4fa9-ba02-39799f7518ea",
   "metadata": {},
   "outputs": [
    {
     "data": {
      "text/plain": [
       "<AxesSubplot:xlabel='points', ylabel='Count'>"
      ]
     },
     "execution_count": 23,
     "metadata": {},
     "output_type": "execute_result"
    },
    {
     "data": {
      "image/png": "[encoded data removed]",
      "text/plain": [
       "<Figure size 1800x720 with 1 Axes>"
      ]
     },
     "metadata": {
      "needs_background": "light"
     },
     "output_type": "display_data"
    }
   ],
   "source": [
    "plt.figure(figsize=(25, 10))\n",
    "sns.histplot(data=df, x=\"points\")"
   ]
  },
  {
   "cell_type": "markdown",
   "id": "9db23464-d001-42d4-a03f-6d88ad53aaad",
   "metadata": {},
   "source": [
    "We finally note how the score that we want to predict follows nicely the normal distribution, which we can use later to define a baseline."
   ]
  },
  {
   "cell_type": "markdown",
   "id": "97f98839-98f6-4a15-9f61-934bbc41aea7",
   "metadata": {},
   "source": [
    "## Train-Validation split"
   ]
  },
  {
   "cell_type": "code",
   "execution_count": 39,
   "id": "154f0fef-2b6e-497d-a957-276e1fbe518b",
   "metadata": {},
   "outputs": [],
   "source": [
    "from sklearn.dummy import DummyRegressor\n",
    "from sklearn.metrics import mean_squared_error"
   ]
  },
  {
   "cell_type": "code",
   "execution_count": 40,
   "id": "7a9ec3cd-4ba2-437e-821b-956e3bda939f",
   "metadata": {},
   "outputs": [],
   "source": [
    "train_x, val_x, train_y, val_y = train_test_split(df, df[['points']], test_size=0.15,\n",
    "                                     random_state=42,\n",
    "                                     stratify=df[['points']])\n",
    "train_x = train_x.drop(columns=['points'])\n",
    "val_x = val_x.drop(columns=['points'])"
   ]
  },
  {
   "cell_type": "code",
   "execution_count": 44,
   "id": "95f604c6-7832-4ca5-9dc5-42bf80ef1bf2",
   "metadata": {},
   "outputs": [
    {
     "name": "stdout",
     "output_type": "stream",
     "text": [
      "9.366303436714166\n",
      "-0.023392204348912315\n"
     ]
    }
   ],
   "source": [
    "dummy_regr = DummyRegressor(strategy=\"median\")\n",
    "dummy_regr.fit(train_x, train_y)\n",
    "pred_val_y = dummy_regr.predict(val_x)\n",
    "print(mean_squared_error(val_y, pred_val_y))\n",
    "print(dummy_regr.score(val_x, val_y))"
   ]
  },
  {
   "cell_type": "code",
   "execution_count": 52,
   "id": "21693eec-aa1a-4106-8f49-1ffed276f188",
   "metadata": {},
   "outputs": [
    {
     "name": "stdout",
     "output_type": "stream",
     "text": [
      "18.54848721614977\n"
     ]
    }
   ],
   "source": [
    "mean, var  = scipy.stats.distributions.norm.fit(train_y)\n",
    "pred_val_y = []\n",
    "for _ in range(len(val_x)):\n",
    "    pred_val_y.append(np.random.normal(loc=mean, scale=var))\n",
    "print(mean_squared_error(val_y, pred_val_y))\n",
    "# print(dummy_regr.score(val_x, val_y))"
   ]
  },
  {
   "cell_type": "code",
   "execution_count": null,
   "id": "13e3c05b-6185-4723-a566-e7d2bb35eddd",
   "metadata": {},
   "outputs": [],
   "source": []
  }
 ],
 "metadata": {
  "kernelspec": {
   "display_name": "code-challenge-2020",
   "language": "python",
   "name": "code-challenge-2020"
  },
  "language_info": {
   "codemirror_mode": {
    "name": "ipython",
    "version": 3
   },
   "file_extension": ".py",
   "mimetype": "text/x-python",
   "name": "python",
   "nbconvert_exporter": "python",
   "pygments_lexer": "ipython3",
   "version": "3.6.13"
  },
  "toc-autonumbering": false,
  "toc-showmarkdowntxt": true
 },
 "nbformat": 4,
 "nbformat_minor": 5
}
