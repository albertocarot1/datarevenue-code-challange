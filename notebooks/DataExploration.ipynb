{
 "cells": [
  {
   "cell_type": "markdown",
   "id": "106db25f-91a5-4e31-ba4f-9e541ffdf24b",
   "metadata": {
    "tags": []
   },
   "source": [
    "# Wine Rating Data Exploration\n",
    "\n",
    "With these next steps we will explore the dataset at hand, converting the columns for better input the dataset into predictive algorithms."
   ]
  },
  {
   "cell_type": "code",
   "execution_count": 2,
   "id": "0385faf6-2696-4f9f-a9e4-438b31a0a879",
   "metadata": {},
   "outputs": [],
   "source": [
    "import pandas as pd\n",
    "import seaborn as sb"
   ]
  },
  {
   "cell_type": "code",
   "execution_count": null,
   "id": "8e801160-d3df-4590-9a01-0230061988e8",
   "metadata": {},
   "outputs": [],
   "source": []
  }
 ],
 "metadata": {
  "kernelspec": {
   "display_name": "code-challenge-2020",
   "language": "python",
   "name": "code-challenge-2020"
  },
  "language_info": {
   "codemirror_mode": {
    "name": "ipython",
    "version": 3
   },
   "file_extension": ".py",
   "mimetype": "text/x-python",
   "name": "python",
   "nbconvert_exporter": "python",
   "pygments_lexer": "ipython3",
   "version": "3.6.13"
  }
 },
 "nbformat": 4,
 "nbformat_minor": 5
}
