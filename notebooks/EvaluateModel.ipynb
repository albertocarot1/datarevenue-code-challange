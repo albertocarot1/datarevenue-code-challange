{
 "cells": [
  {
   "cell_type": "code",
   "execution_count": null,
   "id": "e798bd5c-dbb2-4e8c-b315-ba885b46205d",
   "metadata": {},
   "outputs": [],
   "source": []
  }
 ],
 "metadata": {
  "kernelspec": {
   "display_name": "code-challenge-2020",
   "language": "python",
   "name": "code-challenge-2020"
  },
  "language_info": {
   "codemirror_mode": {
    "name": "ipython",
    "version": 3
   },
   "file_extension": ".py",
   "mimetype": "text/x-python",
   "name": "python",
   "nbconvert_exporter": "python",
   "pygments_lexer": "ipython3",
   "version": "3.6.13"
  }
 },
 "nbformat": 4,
 "nbformat_minor": 5
}
